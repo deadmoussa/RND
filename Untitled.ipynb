{
 "cells": [
  {
   "cell_type": "code",
   "execution_count": 1,
   "id": "cbd22ca0-402d-40b9-9e48-e74754114e03",
   "metadata": {},
   "outputs": [],
   "source": [
    "from ohlc import AmberData\n",
    "import asyncio\n",
    "import aiohttp\n",
    "import logging\n",
    "import json\n",
    "import datetime as dt\n",
    "import pandas as pd\n",
    "import requests\n",
    "import time\n",
    "from datetime import datetime\n",
    "import numpy as np\n",
    "from warnings import simplefilter\n",
    "from create_rvFeatures import generate_rv_features"
   ]
  },
  {
   "cell_type": "code",
   "execution_count": 2,
   "id": "55efaead-159e-41a9-b37e-d58c1499cc00",
   "metadata": {},
   "outputs": [
    {
     "name": "stdout",
     "output_type": "stream",
     "text": [
      "Gather RV 0:00:34.346498\n"
     ]
    }
   ],
   "source": [
    "data_start = datetime.now()\n",
    "\n",
    "now = datetime.now()\n",
    "start = dt.datetime(2018, 1, 1)\n",
    "end = dt.datetime.combine(dt.date.today(), dt.time.min)\n",
    "\n",
    "\n",
    "ticker = \"BTCUSDT\"\n",
    "interval_in = 'hours'\n",
    "exchange_in=\"binance\", \n",
    "changes =[1,3,6,12,24]\n",
    "ewm_days = [3,7,21]\n",
    "vol_windows=[1,3,7,15,30,60]\n",
    "future=True\n",
    "day_step = 1\n",
    "if interval_in == \"hours\":\n",
    "    day_step = 24\n",
    "elif interval_in == \"minutes\":\n",
    "    day_step = 24*60\n",
    "hour_step = day_step/24\n",
    "df = generate_rv_features(start, end, ticker, interval_in,exchange_in=\"binance\", changes =[1,3,6,12,24], ewm_days = [3,7,21],vol_windows=[1,3,7,15,30,60], future=True)\n",
    "data_end = datetime.now()\n",
    "print(\"Gather RV\", data_end-data_start)"
   ]
  },
  {
   "cell_type": "code",
   "execution_count": 3,
   "id": "1d360d3a-c8c0-4e26-a751-58aefcaadd69",
   "metadata": {},
   "outputs": [],
   "source": [
    "df['closeChg%_forward24HR'] = df['closeChg%24HR'].shift(-int(day_step))\n",
    "df['closeChg%_forward1HR'] = df['closeChg%1HR'].shift(-int(hour_step))\n",
    "df_test = df[df['dt']> datetime(2022,12,1)]\n",
    "df_train = df[df['dt'] <= datetime(2022,12,1)] \n",
    "std_24 = df_train['closeChg%_forward24HR'].std()\n",
    "std_1 = df_train['closeChg%_forward1HR'].std()\n",
    "def helperLabel(x, std_val):\n",
    "  if abs(x) >= std_val:\n",
    "      if x > 0:\n",
    "          return 1\n",
    "      else:\n",
    "          return -1\n",
    "  else:\n",
    "      return 0\n",
    "df['UpDownPred24HR'] = df['closeChg%_forward24HR'].apply(lambda x: helperLabel(x, std_24))\n",
    "df['UpDownPred1HR'] = df['closeChg%_forward1HR'].apply(lambda x: helperLabel(x, std_1))\n",
    "df_test = df[df['dt']> datetime(2022,12,1)]\n",
    "df_train = df[df['dt'] <= datetime(2022,12,1)] \n",
    "df_test.reset_index(drop = True, inplace=True)  \n",
    "df_train.reset_index(drop = True, inplace=True) "
   ]
  },
  {
   "cell_type": "code",
   "execution_count": null,
   "id": "02d39471-ee57-4b4a-88ce-309564313474",
   "metadata": {},
   "outputs": [
    {
     "name": "stderr",
     "output_type": "stream",
     "text": [
      "[LightGBM] [Fatal] GPU Tree Learner was not enabled in this build.\n",
      "Please recompile with CMake option -DUSE_GPU=1\n",
      "[LightGBM] [Fatal] CUDA Tree Learner was not enabled in this build.\n",
      "Please recompile with CMake option -DUSE_CUDA=1\n",
      "[LightGBM] [Fatal] GPU Tree Learner was not enabled in this build.\n",
      "Please recompile with CMake option -DUSE_GPU=1\n",
      "[LightGBM] [Fatal] CUDA Tree Learner was not enabled in this build.\n",
      "Please recompile with CMake option -DUSE_CUDA=1\n",
      "[LightGBM] [Fatal] GPU Tree Learner was not enabled in this build.\n",
      "Please recompile with CMake option -DUSE_GPU=1\n",
      "[LightGBM] [Fatal] CUDA Tree Learner was not enabled in this build.\n",
      "Please recompile with CMake option -DUSE_CUDA=1\n",
      "[LightGBM] [Fatal] GPU Tree Learner was not enabled in this build.\n",
      "Please recompile with CMake option -DUSE_GPU=1\n",
      "[LightGBM] [Fatal] CUDA Tree Learner was not enabled in this build.\n",
      "Please recompile with CMake option -DUSE_CUDA=1\n",
      "[LightGBM] [Fatal] GPU Tree Learner was not enabled in this build.\n",
      "Please recompile with CMake option -DUSE_GPU=1\n",
      "[LightGBM] [Fatal] CUDA Tree Learner was not enabled in this build.\n",
      "Please recompile with CMake option -DUSE_CUDA=1\n",
      "[LightGBM] [Fatal] GPU Tree Learner was not enabled in this build.\n",
      "Please recompile with CMake option -DUSE_GPU=1\n",
      "[LightGBM] [Fatal] CUDA Tree Learner was not enabled in this build.\n",
      "Please recompile with CMake option -DUSE_CUDA=1\n",
      "[LightGBM] [Fatal] GPU Tree Learner was not enabled in this build.\n",
      "Please recompile with CMake option -DUSE_GPU=1\n",
      "[LightGBM] [Fatal] CUDA Tree Learner was not enabled in this build.\n",
      "Please recompile with CMake option -DUSE_CUDA=1\n",
      "[LightGBM] [Fatal] GPU Tree Learner was not enabled in this build.\n",
      "Please recompile with CMake option -DUSE_GPU=1\n",
      "[LightGBM] [Fatal] CUDA Tree Learner was not enabled in this build.\n",
      "Please recompile with CMake option -DUSE_CUDA=1\n",
      "[LightGBM] [Fatal] GPU Tree Learner was not enabled in this build.\n",
      "Please recompile with CMake option -DUSE_GPU=1\n",
      "[LightGBM] [Fatal] CUDA Tree Learner was not enabled in this build.\n",
      "Please recompile with CMake option -DUSE_CUDA=1\n",
      "[LightGBM] [Fatal] GPU Tree Learner was not enabled in this build.\n",
      "Please recompile with CMake option -DUSE_GPU=1\n",
      "[LightGBM] [Fatal] CUDA Tree Learner was not enabled in this build.\n",
      "Please recompile with CMake option -DUSE_CUDA=1\n",
      "[LightGBM] [Fatal] GPU Tree Learner was not enabled in this build.\n",
      "Please recompile with CMake option -DUSE_GPU=1\n",
      "[LightGBM] [Fatal] CUDA Tree Learner was not enabled in this build.\n",
      "Please recompile with CMake option -DUSE_CUDA=1\n",
      "[LightGBM] [Fatal] GPU Tree Learner was not enabled in this build.\n",
      "Please recompile with CMake option -DUSE_GPU=1\n",
      "[LightGBM] [Fatal] CUDA Tree Learner was not enabled in this build.\n",
      "Please recompile with CMake option -DUSE_CUDA=1\n"
     ]
    }
   ],
   "source": [
    "from pycaret.regression import *\n",
    "start = datetime.now()\n",
    "\n",
    "bad_cols = ['dt', 'exchange', 'timestamp', 'instrument', 'closeChg%_forward1HR']\n",
    "\n",
    "\n",
    "a=setup(df_train,target='closeChg%_forward24HR',\n",
    "        ignore_features=['dt', 'exchange', 'timestamp', 'instrument', 'closeChg%_forward1HR',  'closeChg%_forward1HR',  'UpDownPred1HR', 'UpDownPred24HR']\n",
    "        ,session_id=12,profile=False,  use_gpu=True,  normalize = True,  remove_multicollinearity=True);\n",
    "models = compare_models(exclude = ['tr', 'lightgbm'],turbo=True, n_select =4)\n",
    "#pull error df\n",
    "model_df = pull()\n",
    "#get top 4 models to train\n",
    "best_models = model_df.iloc[0:4]\n",
    "end = datetime.now()"
   ]
  },
  {
   "cell_type": "code",
   "execution_count": null,
   "id": "a90d92b7-f411-40f7-aaaa-495cb9d2a659",
   "metadata": {},
   "outputs": [],
   "source": [
    "print(end-start)"
   ]
  }
 ],
 "metadata": {
  "kernelspec": {
   "display_name": "Python 3 (ipykernel)",
   "language": "python",
   "name": "python3"
  },
  "language_info": {
   "codemirror_mode": {
    "name": "ipython",
    "version": 3
   },
   "file_extension": ".py",
   "mimetype": "text/x-python",
   "name": "python",
   "nbconvert_exporter": "python",
   "pygments_lexer": "ipython3",
   "version": "3.9.16"
  }
 },
 "nbformat": 4,
 "nbformat_minor": 5
}
